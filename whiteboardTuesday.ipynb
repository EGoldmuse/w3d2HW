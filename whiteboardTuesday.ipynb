{
 "cells": [
  {
   "cell_type": "code",
   "execution_count": 3,
   "id": "9c515f79",
   "metadata": {},
   "outputs": [
    {
     "name": "stdout",
     "output_type": "stream",
     "text": [
      "[0, 1, 3, 12, 0]\n"
     ]
    }
   ],
   "source": [
    "def remove_zero(nums):\n",
    "    for num in nums:\n",
    "        if num == 0:\n",
    "            nums.remove(num)\n",
    "            nums.append(num)\n",
    "        return nums\n",
    "    \n",
    "nums_1 = [0, 0, 1, 3, 12]\n",
    "print(remove_zero(nums_1))"
   ]
  },
  {
   "cell_type": "code",
   "execution_count": 4,
   "id": "06a9a965",
   "metadata": {},
   "outputs": [
    {
     "name": "stdout",
     "output_type": "stream",
     "text": [
      "[11, 2, 3, 4, 0, 0]\n"
     ]
    }
   ],
   "source": [
    "nums = [0,0,11,2,3,4]\n",
    "for num in nums:\n",
    "    if num == 0:\n",
    "        nums.remove(num)\n",
    "        nums.append(num)\n",
    "print(nums)"
   ]
  },
  {
   "cell_type": "code",
   "execution_count": null,
   "id": "03e7e35d",
   "metadata": {},
   "outputs": [],
   "source": []
  },
  {
   "cell_type": "code",
   "execution_count": null,
   "id": "09c9c217",
   "metadata": {},
   "outputs": [],
   "source": []
  }
 ],
 "metadata": {
  "kernelspec": {
   "display_name": "Python 3",
   "language": "python",
   "name": "python3"
  },
  "language_info": {
   "codemirror_mode": {
    "name": "ipython",
    "version": 3
   },
   "file_extension": ".py",
   "mimetype": "text/x-python",
   "name": "python",
   "nbconvert_exporter": "python",
   "pygments_lexer": "ipython3",
   "version": "3.8.8"
  }
 },
 "nbformat": 4,
 "nbformat_minor": 5
}
