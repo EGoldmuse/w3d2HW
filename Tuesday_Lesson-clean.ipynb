{
 "cells": [
  {
   "cell_type": "markdown",
   "id": "4605533c",
   "metadata": {},
   "source": [
    "# Map, Filter, Reduce, Lambda & Recursion"
   ]
  },
  {
   "cell_type": "markdown",
   "id": "bd557c96",
   "metadata": {},
   "source": [
    "## Tasks Today:\n",
    "\n",
    "1) <b>Lambda Functions</b> <br>\n",
    " &nbsp;&nbsp;&nbsp;&nbsp; a) Syntax <br>\n",
    " &nbsp;&nbsp;&nbsp;&nbsp; b) Saving to a Variable <br>\n",
    " &nbsp;&nbsp;&nbsp;&nbsp; c) Multiple Inputs <br>\n",
    " &nbsp;&nbsp;&nbsp;&nbsp; d) Passing a Lambda into a Function <br>\n",
    " &nbsp;&nbsp;&nbsp;&nbsp; e) Returning a Lambda from a Function <br>\n",
    " &nbsp;&nbsp;&nbsp;&nbsp; f) In-Class Exercise #1 <br>\n",
    "2) <b>Map</b> <br>\n",
    " &nbsp;&nbsp;&nbsp;&nbsp; a) Syntax <br>\n",
    " &nbsp;&nbsp;&nbsp;&nbsp; b) Using Lambda's with Map <br>\n",
    " &nbsp;&nbsp;&nbsp;&nbsp; c) In-Class Exercise #2 <br>\n",
    "3) <b>Filter</b> <br>\n",
    " &nbsp;&nbsp;&nbsp;&nbsp; a) Syntax <br>\n",
    " &nbsp;&nbsp;&nbsp;&nbsp; b) Using Lambda's with Filter <br>\n",
    " &nbsp;&nbsp;&nbsp;&nbsp; c) In-Class Exercise #3 <br>\n",
    "4) <b>Reduce</b> <br>\n",
    " &nbsp;&nbsp;&nbsp;&nbsp; a) Syntax <br>\n",
    " &nbsp;&nbsp;&nbsp;&nbsp; b) Using Lambda's with Reduce <br>\n",
    " &nbsp;&nbsp;&nbsp;&nbsp; c) In-Class Exercise #4 <br>\n",
    "5) <b>Recursion</b> <br>\n",
    " &nbsp;&nbsp;&nbsp;&nbsp; a) Implementing a Base <br>\n",
    " &nbsp;&nbsp;&nbsp;&nbsp; b) Writing a Factorial Function <br>\n",
    " &nbsp;&nbsp;&nbsp;&nbsp; c) In-Class Exercise #5 <br>\n",
    "6) <b>Generators & Iterators</b> <br>\n",
    " &nbsp;&nbsp;&nbsp;&nbsp; a) Yield Keyword <br>\n",
    " &nbsp;&nbsp;&nbsp;&nbsp; b) Inifinite Generator <br>\n",
    " &nbsp;&nbsp;&nbsp;&nbsp; c) In-Class Exercise #6 <br>\n",
    "7) <b>Exercises</b> <br>\n",
    " &nbsp;&nbsp;&nbsp;&nbsp; a) Exercise #1 - Filtering Empty Strings <br>\n",
    " &nbsp;&nbsp;&nbsp;&nbsp; b) Exercise #2 - Sorting with Last Name <br>\n",
    " &nbsp;&nbsp;&nbsp;&nbsp; c) Exercise #3 - Conversion to Farhenheit <br>\n",
    " &nbsp;&nbsp;&nbsp;&nbsp; d) Exercise #4 - Fibonacci Sequence <br>"
   ]
  },
  {
   "cell_type": "markdown",
   "id": "f39affd8",
   "metadata": {},
   "source": [
    "## Lambda Functions <br>\n",
    "<p>Lambda functions... or \"Anonymous Functions\" are referring to inline functions with no name. The keyword lambda denotes the no name function, and executes within a single line. Without saving it to a variable; however, it is not able to be used, unless passed in either as a paramater or within list comprehension.<br>Written as \"(keyword lambda) (one or more inputs) (colon) (function to be executed)\"</p>"
   ]
  },
  {
   "cell_type": "code",
   "execution_count": 1,
   "id": "86a4a799",
   "metadata": {},
   "outputs": [
    {
     "data": {
      "text/plain": [
       "'Hello, Ripal'"
      ]
     },
     "execution_count": 1,
     "metadata": {},
     "output_type": "execute_result"
    }
   ],
   "source": [
    "def print_name(name):\n",
    "    return f\"Hello, {name}\"\n",
    "\n",
    "print_name(\"Ripal\")"
   ]
  },
  {
   "cell_type": "code",
   "execution_count": 2,
   "id": "b22b66c1",
   "metadata": {},
   "outputs": [],
   "source": [
    "b_print_name = lambda name: f\"Hello, {name}\""
   ]
  },
  {
   "cell_type": "code",
   "execution_count": 6,
   "id": "3ddb6088",
   "metadata": {},
   "outputs": [
    {
     "data": {
      "text/plain": [
       "'Hello, Eli'"
      ]
     },
     "execution_count": 6,
     "metadata": {},
     "output_type": "execute_result"
    }
   ],
   "source": [
    "b_print_name(\"Eli\")"
   ]
  },
  {
   "cell_type": "code",
   "execution_count": 7,
   "id": "b298ddd0",
   "metadata": {},
   "outputs": [
    {
     "data": {
      "text/plain": [
       "'Hello, Dylan'"
      ]
     },
     "execution_count": 7,
     "metadata": {},
     "output_type": "execute_result"
    }
   ],
   "source": [
    "b_print_name(\"Dylan\")"
   ]
  },
  {
   "cell_type": "code",
   "execution_count": 12,
   "id": "27f46368",
   "metadata": {},
   "outputs": [
    {
     "name": "stdout",
     "output_type": "stream",
     "text": [
      "[1, 9]\n"
     ]
    }
   ],
   "source": [
    "num_list = [1, 2, 3, 4]\n",
    "new_list = []\n",
    "\n",
    "for n in num_list:\n",
    "    num=n**2\n",
    "    if n%2!=0:\n",
    "        new_list.append(n**2)\n",
    "print(new_list)"
   ]
  },
  {
   "cell_type": "code",
   "execution_count": 21,
   "id": "57303cb9",
   "metadata": {},
   "outputs": [
    {
     "data": {
      "text/plain": [
       "[1, 27]"
      ]
     },
     "execution_count": 21,
     "metadata": {},
     "output_type": "execute_result"
    }
   ],
   "source": [
    "#one -liner list comprehension\n",
    "[n**3 for n in num_list if n%2!=0]"
   ]
  },
  {
   "cell_type": "code",
   "execution_count": 15,
   "id": "1e3c0485",
   "metadata": {},
   "outputs": [
    {
     "data": {
      "text/plain": [
       "[(1, 'diamonds'),\n",
       " (2, 'diamonds'),\n",
       " (3, 'diamonds'),\n",
       " (4, 'diamonds'),\n",
       " (5, 'diamonds')]"
      ]
     },
     "execution_count": 15,
     "metadata": {},
     "output_type": "execute_result"
    }
   ],
   "source": [
    "suits = ['diamonds', 'hearts', 'spades', 'clubs']\n",
    "ranks = range(1,14)\n",
    "\n",
    "[(r, s) for s in suits for r in ranks][:5]"
   ]
  },
  {
   "cell_type": "code",
   "execution_count": 18,
   "id": "b54f8a7e",
   "metadata": {},
   "outputs": [
    {
     "name": "stdout",
     "output_type": "stream",
     "text": [
      "[(1, 'diamonds'), (2, 'diamonds'), (3, 'diamonds'), (4, 'diamonds'), (5, 'diamonds')]\n"
     ]
    }
   ],
   "source": [
    "cards = []\n",
    "for s in suits:\n",
    "    for r in ranks:\n",
    "        cards.append((r,s))\n",
    "print((cards)[:5])"
   ]
  },
  {
   "cell_type": "code",
   "execution_count": 20,
   "id": "8d7993b1",
   "metadata": {},
   "outputs": [
    {
     "data": {
      "text/plain": [
       "'Hello'"
      ]
     },
     "execution_count": 20,
     "metadata": {},
     "output_type": "execute_result"
    }
   ],
   "source": [
    "#ternary operators\n",
    "name = \"Eli\"\n",
    "\n",
    "# return stateemnt if condition is True ele if condition is false\n",
    "\"Hello\" if name == \"Eli\" else \"Who are you?\""
   ]
  },
  {
   "cell_type": "code",
   "execution_count": 22,
   "id": "647e9e1e",
   "metadata": {},
   "outputs": [
    {
     "data": {
      "text/plain": [
       "['10', '6', '8', '9']"
      ]
     },
     "execution_count": 22,
     "metadata": {},
     "output_type": "execute_result"
    }
   ],
   "source": [
    "# dictionary comprehension\n",
    "ratings= {\n",
    "    'html': '9',\n",
    "    'css': '6',\n",
    "    'python': '10',\n",
    "    'javascript': '8'\n",
    "    \n",
    "}\n",
    "sorted(ratings.values())"
   ]
  },
  {
   "cell_type": "code",
   "execution_count": 25,
   "id": "ba46bbc2",
   "metadata": {},
   "outputs": [],
   "source": [
    "# dictionary comprehension\n",
    "ratings= {\n",
    "    'html': '9',\n",
    "    'css': '6',\n",
    "    'python': '10',\n",
    "    'javascript': '8'\n",
    "    \n",
    "}\n",
    "filtered_ratings = {tech:int(rating) for (tech, rating) in ratings.items()}"
   ]
  },
  {
   "cell_type": "code",
   "execution_count": 26,
   "id": "ca1f2e91",
   "metadata": {},
   "outputs": [
    {
     "data": {
      "text/plain": [
       "[6, 8, 9, 10]"
      ]
     },
     "execution_count": 26,
     "metadata": {},
     "output_type": "execute_result"
    }
   ],
   "source": [
    "sorted(filtered_ratings.values())"
   ]
  },
  {
   "cell_type": "code",
   "execution_count": 31,
   "id": "6aef06b8",
   "metadata": {},
   "outputs": [],
   "source": [
    "# filter(f, a_list)\n",
    "my_list = [1 ,2, 3, 7, 26]\n",
    "\n",
    "def my_func(num):\n",
    "    if num < 4:\n",
    "        return True\n",
    "f = lambda x:x+10 if x%2==0 else None"
   ]
  },
  {
   "cell_type": "code",
   "execution_count": 34,
   "id": "88cf36e8",
   "metadata": {},
   "outputs": [
    {
     "data": {
      "text/plain": [
       "[1, 2, 3]"
      ]
     },
     "execution_count": 34,
     "metadata": {},
     "output_type": "execute_result"
    }
   ],
   "source": [
    "list(filter(my_func, my_list))"
   ]
  },
  {
   "cell_type": "code",
   "execution_count": 33,
   "id": "210a35ad",
   "metadata": {
    "scrolled": true
   },
   "outputs": [
    {
     "data": {
      "text/plain": [
       "[None, 12, None, None, 36]"
      ]
     },
     "execution_count": 33,
     "metadata": {},
     "output_type": "execute_result"
    }
   ],
   "source": [
    "# map function returns a value for every iteration of list\n",
    "list(map(f, my_list))"
   ]
  },
  {
   "cell_type": "code",
   "execution_count": 35,
   "id": "0820beb9",
   "metadata": {},
   "outputs": [
    {
     "data": {
      "text/plain": [
       "[2, 26]"
      ]
     },
     "execution_count": 35,
     "metadata": {},
     "output_type": "execute_result"
    }
   ],
   "source": [
    "# the filter function only returns the value that evaluates to True. Are NOT abvle to change values of a filter function\n",
    "list(filter(f, my_list))"
   ]
  },
  {
   "cell_type": "code",
   "execution_count": 36,
   "id": "e04d8b48",
   "metadata": {},
   "outputs": [],
   "source": [
    "# PYTHON ARRAY = [45.2, 54.0, 6.7]\n",
    "# PYTHON LIST = ['Derel', 5, 5.6, car1]"
   ]
  },
  {
   "cell_type": "code",
   "execution_count": 37,
   "id": "b40e01e0",
   "metadata": {},
   "outputs": [],
   "source": [
    "from statistics import mean\n",
    "\n",
    "nums = [2, 7, 4.2, 4.4, 4.9]\n",
    "\n"
   ]
  },
  {
   "cell_type": "code",
   "execution_count": null,
   "id": "77d41b2f",
   "metadata": {},
   "outputs": [],
   "source": []
  },
  {
   "cell_type": "code",
   "execution_count": null,
   "id": "e376009b",
   "metadata": {},
   "outputs": [],
   "source": []
  },
  {
   "cell_type": "code",
   "execution_count": null,
   "id": "be73f850",
   "metadata": {},
   "outputs": [],
   "source": []
  },
  {
   "cell_type": "code",
   "execution_count": 46,
   "id": "bd5a1dc9",
   "metadata": {},
   "outputs": [
    {
     "data": {
      "text/plain": [
       "40320"
      ]
     },
     "execution_count": 46,
     "metadata": {},
     "output_type": "execute_result"
    }
   ],
   "source": [
    "# implementing a base case = the condiiton for your function to end\n",
    "def factorial(num):\n",
    "    #base case\n",
    "    if num < 1:\n",
    "        return 1\n",
    "    else:\n",
    "        return factorial(num-1) * num\n",
    "    \n",
    "factorial(8)"
   ]
  },
  {
   "cell_type": "code",
   "execution_count": 48,
   "id": "102ae797",
   "metadata": {},
   "outputs": [
    {
     "name": "stdout",
     "output_type": "stream",
     "text": [
      "w o r k "
     ]
    }
   ],
   "source": [
    "def countdown(word):\n",
    "    for char in word:\n",
    "        print(char, end=' ')\n",
    "countdown('work')"
   ]
  },
  {
   "cell_type": "code",
   "execution_count": 50,
   "id": "a9bdbb4b",
   "metadata": {},
   "outputs": [
    {
     "data": {
      "text/plain": [
       "'w'"
      ]
     },
     "execution_count": 50,
     "metadata": {},
     "output_type": "execute_result"
    }
   ],
   "source": [
    "def countdown(word):\n",
    "    for char in word:\n",
    "        return char\n",
    "countdown('work')"
   ]
  },
  {
   "cell_type": "code",
   "execution_count": 52,
   "id": "a72b218a",
   "metadata": {},
   "outputs": [
    {
     "data": {
      "text/plain": [
       "<generator object countdown at 0x7fdb38c86ba0>"
      ]
     },
     "execution_count": 52,
     "metadata": {},
     "output_type": "execute_result"
    }
   ],
   "source": [
    "def countdown(word):\n",
    "    for char in word:\n",
    "        yield char\n",
    "countdown('work')"
   ]
  },
  {
   "cell_type": "code",
   "execution_count": 58,
   "id": "28156287",
   "metadata": {
    "scrolled": true
   },
   "outputs": [
    {
     "data": {
      "text/plain": [
       "[(0, 'html'), (1, 'css'), (2, 'python'), (3, 'javascript')]"
      ]
     },
     "execution_count": 58,
     "metadata": {},
     "output_type": "execute_result"
    }
   ],
   "source": [
    "list(enumerate(ratings))"
   ]
  },
  {
   "cell_type": "code",
   "execution_count": 53,
   "id": "e7fb4b55",
   "metadata": {},
   "outputs": [
    {
     "data": {
      "text/plain": [
       "['w', 'o', 'r', 'k']"
      ]
     },
     "execution_count": 53,
     "metadata": {},
     "output_type": "execute_result"
    }
   ],
   "source": [
    "list(countdown('work'))"
   ]
  },
  {
   "cell_type": "code",
   "execution_count": 61,
   "id": "99fe659a",
   "metadata": {},
   "outputs": [
    {
     "data": {
      "text/plain": [
       "[{2: 4},\n",
       " {3: 9},\n",
       " {4: 16},\n",
       " {5: 25},\n",
       " {6: 36},\n",
       " {7: 49},\n",
       " {8: 64},\n",
       " {9: 81},\n",
       " {10: 100}]"
      ]
     },
     "execution_count": 61,
     "metadata": {},
     "output_type": "execute_result"
    }
   ],
   "source": [
    "def square_countdown(num):\n",
    "    while num <= 10:\n",
    "        yield { num: num**2 }\n",
    "        num+=1\n",
    "    \n",
    "list(square_countdown(2))"
   ]
  },
  {
   "cell_type": "code",
   "execution_count": null,
   "id": "3a687c34",
   "metadata": {},
   "outputs": [],
   "source": []
  },
  {
   "cell_type": "code",
   "execution_count": null,
   "id": "de57675e",
   "metadata": {},
   "outputs": [],
   "source": []
  }
 ],
 "metadata": {
  "kernelspec": {
   "display_name": "Python 3",
   "language": "python",
   "name": "python3"
  },
  "language_info": {
   "codemirror_mode": {
    "name": "ipython",
    "version": 3
   },
   "file_extension": ".py",
   "mimetype": "text/x-python",
   "name": "python",
   "nbconvert_exporter": "python",
   "pygments_lexer": "ipython3",
   "version": "3.8.8"
  }
 },
 "nbformat": 4,
 "nbformat_minor": 5
}
